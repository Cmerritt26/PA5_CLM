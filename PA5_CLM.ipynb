{
 "cells": [
  {
   "cell_type": "markdown",
   "id": "a2d77763",
   "metadata": {},
   "source": [
    "Task 1: Language Translator - write a program that implements a translation dictionary using a \n",
    "Python dictionary data structure that maps 10 English words to 10 words in another language (e.g.\n",
    "Spanish, German, Farsi, Arabic,Japanese, etc.). The keysin your dictionary should be in English\n",
    "(all lower case), and your values should be in your target language (also all lowercase). Your \n",
    "program should ask for words in English to translate to your target language until the user enters \n",
    "the number zero (0). Your program should provide input/output precisely as the output below:\n",
    "Enter a word to translate from English to Irish (enter 0 to stop)\n",
    ": couch\n",
    "The Irish word for COUCH is outside this dictionary.\n",
    "Enter a word to translate from English to Irish (enter 0 to stop)\n",
    ": chair\n",
    "The Irish word for chair is CATHAOIR.\n",
    "Enter a word to translate from English to Irish (enter 0 to stop)\n",
    ": cat\n",
    "The Irish word for CAT is not in this dictionary.\n",
    "Enter a word to translate from English to Irish (enter 0 to stop)\n",
    ": dog\n",
    "The Irish word for DOG is not in this dictionary.\n",
    "Enter a word to translate from English to Irish (enter 0 to stop)\n",
    ": 0\n",
    "All of the code should be contained in one cell in your Jupyter Notebook and hardcode the dictionary (no \n",
    "need to ask the user to fill the dictionary)"
   ]
  },
  {
   "cell_type": "code",
   "execution_count": 4,
   "id": "17987ed4",
   "metadata": {},
   "outputs": [
    {
     "name": "stdout",
     "output_type": "stream",
     "text": [
      "Enter a word to translate from English to Spanish (enter 0 to stop):\n",
      ": dog\n",
      "The Spanish word for DOG is PERRO.\n",
      "Enter a word to translate from English to Spanish (enter 0 to stop):\n",
      ": cat\n",
      "The Spanish word for CAT is GATO.\n",
      "Enter a word to translate from English to Spanish (enter 0 to stop):\n",
      ": 0\n",
      "Translation process ended.\n"
     ]
    }
   ],
   "source": [
    "# Define the English to Spanish translation dictionary\n",
    "translation_dict = {\n",
    "    'couch': 'sofá',\n",
    "    'chair': 'silla',\n",
    "    'cat': 'gato',\n",
    "    'dog': 'perro',\n",
    "    'table': 'mesa',\n",
    "    'book': 'libro',\n",
    "    'car': 'coche',\n",
    "    'computer': 'ordenador',\n",
    "    'house': 'casa',\n",
    "    'tree': 'árbol'\n",
    "}\n",
    "\n",
    "while True:\n",
    "    word = input(\"Enter a word to translate from English to Spanish (enter 0 to stop):\\n: \").lower()\n",
    "\n",
    "    if word == '0':\n",
    "        break\n",
    "\n",
    "    if word in translation_dict:\n",
    "        print(f\"The Spanish word for {word.upper()} is {translation_dict[word].upper()}.\")\n",
    "    else:\n",
    "        print(f\"The Spanish word for {word.upper()} is not in this dictionary.\")\n",
    "\n",
    "print(\"Translation process ended.\")"
   ]
  },
  {
   "cell_type": "markdown",
   "id": "68a17081",
   "metadata": {},
   "source": [
    "Task 2: Temperature converter- Create a dictionary named temp_dict containing the highest \n",
    "temperature in Fahrenheit for each day of September 2023 in Louisville, Kentucky. The keys will be the \n",
    "day of the month, and the values will be the temperature in Fahrenheit. Access each temperature value in \n",
    "Fahrenheit from the dictionary, convert it to Celsius using the formula (temperature - 32) * 5/9, and \n",
    "update the original dictionary with the Celsius value. Take help from the weather app to create a correct \n",
    "dictionary. \n",
    "{Day1: 89, Day2: 76, ……….}\n"
   ]
  },
  {
   "cell_type": "code",
   "execution_count": 7,
   "id": "0f6240e4",
   "metadata": {},
   "outputs": [
    {
     "name": "stdout",
     "output_type": "stream",
     "text": [
      "Day1: Fahrenheit = 89, Celsius = 31.666666666666668\n",
      "Day2: Fahrenheit = 76, Celsius = 24.444444444444443\n",
      "Day3: Fahrenheit = 82, Celsius = 27.77777777777778\n",
      "Day4: Fahrenheit = 88, Celsius = 31.11111111111111\n",
      "Day5: Fahrenheit = 79, Celsius = 26.11111111111111\n"
     ]
    }
   ],
   "source": [
    "# Create a dictionary with fictional temperature data for September 2023\n",
    "temp_dict = {\n",
    "    'Day1': 89,\n",
    "    'Day2': 76,\n",
    "    'Day3': 82,\n",
    "    'Day4': 88,\n",
    "    'Day5': 79,\n",
    "}\n",
    "\n",
    "# Convert Fahrenheit temperatures to Celsius and update the dictionary\n",
    "for day, temp_fahrenheit in temp_dict.items():\n",
    "    temp_celsius = (temp_fahrenheit - 32) * 5/9\n",
    "    temp_dict[day] = {'Fahrenheit': temp_fahrenheit, 'Celsius': temp_celsius}\n",
    "for day, temps in temp_dict.items():\n",
    "    print(f'{day}: Fahrenheit = {temps[\"Fahrenheit\"]}, Celsius = {temps[\"Celsius\"]}')"
   ]
  },
  {
   "cell_type": "markdown",
   "id": "e8a3cb97",
   "metadata": {},
   "source": [
    "Task 3: Write a Python script to create a dictionary where the keys are numbers between 1 and \n",
    "15 (both included) and the values are the squares of the keys"
   ]
  },
  {
   "cell_type": "code",
   "execution_count": 11,
   "id": "be7df26a",
   "metadata": {},
   "outputs": [
    {
     "name": "stdout",
     "output_type": "stream",
     "text": [
      "1: 1\n",
      "2: 4\n",
      "3: 9\n",
      "4: 16\n",
      "5: 25\n",
      "6: 36\n",
      "7: 49\n",
      "8: 64\n",
      "9: 81\n",
      "10: 100\n",
      "11: 121\n",
      "12: 144\n",
      "13: 169\n",
      "14: 196\n",
      "15: 225\n"
     ]
    }
   ],
   "source": [
    "number_squared_dict = {}\n",
    "for num in range(1, 16):\n",
    "    number_squared_dict[num] = num ** 2\n",
    "for key, value in number_squared_dict.items():\n",
    "    print(f\"{key}: {value}\")"
   ]
  },
  {
   "cell_type": "markdown",
   "id": "38987a40",
   "metadata": {},
   "source": [
    "Task4: User Profile Dictionary\n",
    "Create a Python program that manages user profiles using a dictionary. Follow these steps:\n",
    "A. Create an empty dictionary named user_profiles to store user information.\n",
    "B. Implement a while loop that allows users to input their information. The loop should \n",
    "repeatedly ask the user to enter their name, age, email, and city. Add this information to the \n",
    "user_profiles dictionary.\n",
    "C. Add a break condition to exit the loop.\n",
    "D. Ask the user to input their information and add it to the dictionary. Allow the user to search \n",
    "for a specific user's profile by providing their name. If the user is found, display their profile; \n",
    "otherwise, show a message that the user is not found"
   ]
  },
  {
   "cell_type": "code",
   "execution_count": 12,
   "id": "e0368c83",
   "metadata": {},
   "outputs": [
    {
     "name": "stdout",
     "output_type": "stream",
     "text": [
      "Enter your name (or enter '0' to exit): Corey\n",
      "Enter your age: 20\n",
      "Enter your email: bobthebuilder@gmail.com\n",
      "Enter your city: Oakdale\n",
      "Enter your name (or enter '0' to exit): Firstene\n",
      "Enter your age: 19\n",
      "Enter your email: physicsman123@gmail.com\n",
      "Enter your city: Baltimore\n",
      "Enter your name (or enter '0' to exit): Lee\n",
      "Enter your age: 49\n",
      "Enter your email: Theman123@gov.org\n",
      "Enter your city: Louisville\n",
      "Enter your name (or enter '0' to exit): 0\n",
      "Enter a name to search for a user's profile: Corey\n",
      "Profile for Corey:\n",
      "Age: 20\n",
      "Email: bobthebuilder@gmail.com\n",
      "City: Oakdale\n"
     ]
    }
   ],
   "source": [
    "user_profiles = {}\n",
    "while True:\n",
    "    name = input(\"Enter your name (or enter '0' to exit): \")\n",
    "    if name == '0':\n",
    "        break\n",
    "    age = input(\"Enter your age: \")\n",
    "    email = input(\"Enter your email: \")\n",
    "    city = input(\"Enter your city: \")\n",
    "    user_profiles[name] = {\n",
    "        'Age': age,\n",
    "        'Email': email,\n",
    "        'City': city\n",
    "    }\n",
    "search_name = input(\"Enter a name to search for a user's profile: \")\n",
    "if search_name in user_profiles:\n",
    "    profile = user_profiles[search_name]\n",
    "    print(f\"Profile for {search_name}:\")\n",
    "    print(f\"Age: {profile['Age']}\")\n",
    "    print(f\"Email: {profile['Email']}\")\n",
    "    print(f\"City: {profile['City']}\")\n",
    "else:\n",
    "    print(f\"User '{search_name}' not found in the user profiles.\")\n"
   ]
  },
  {
   "cell_type": "markdown",
   "id": "4a2ff001",
   "metadata": {},
   "source": [
    "# PA5 \n",
    "## Corey Merritt\n",
    "### Python\n",
    "#### Fall 2023\n"
   ]
  },
  {
   "cell_type": "code",
   "execution_count": null,
   "id": "927986e4",
   "metadata": {},
   "outputs": [],
   "source": []
  }
 ],
 "metadata": {
  "kernelspec": {
   "display_name": "Python 3 (ipykernel)",
   "language": "python",
   "name": "python3"
  },
  "language_info": {
   "codemirror_mode": {
    "name": "ipython",
    "version": 3
   },
   "file_extension": ".py",
   "mimetype": "text/x-python",
   "name": "python",
   "nbconvert_exporter": "python",
   "pygments_lexer": "ipython3",
   "version": "3.11.4"
  }
 },
 "nbformat": 4,
 "nbformat_minor": 5
}
